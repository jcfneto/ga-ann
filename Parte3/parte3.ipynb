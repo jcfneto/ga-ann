{
 "cells": [
  {
   "cell_type": "code",
   "execution_count": 1,
   "metadata": {
    "collapsed": true
   },
   "outputs": [],
   "source": [
    "# Importando nossas funćões\n",
    "import parte3"
   ]
  },
  {
   "cell_type": "code",
   "execution_count": 2,
   "outputs": [],
   "source": [
    "# Definindo os parâmetros\n",
    "k = 4\n",
    "D = 2\n",
    "n = 10\n",
    "search_range = [[1, 10]] * D"
   ],
   "metadata": {
    "collapsed": false,
    "pycharm": {
     "name": "#%%\n"
    }
   }
  },
  {
   "cell_type": "code",
   "execution_count": 3,
   "outputs": [
    {
     "data": {
      "text/plain": "array([[1, 1, 1, 1, 0, 0, 0, 0],\n       [1, 0, 0, 1, 1, 1, 1, 0],\n       [1, 0, 1, 0, 1, 0, 0, 1],\n       [1, 0, 0, 1, 1, 0, 1, 0],\n       [1, 0, 1, 0, 0, 0, 0, 0],\n       [0, 1, 1, 0, 1, 0, 0, 1],\n       [0, 1, 1, 0, 1, 0, 0, 0],\n       [1, 1, 0, 1, 1, 0, 0, 0],\n       [1, 0, 0, 1, 0, 0, 1, 0],\n       [0, 1, 1, 1, 0, 0, 0, 0]])"
     },
     "execution_count": 3,
     "metadata": {},
     "output_type": "execute_result"
    }
   ],
   "source": [
    "# Inicializando a populacão\n",
    "pop = parte3.start_population(k, D, n)\n",
    "pop"
   ],
   "metadata": {
    "collapsed": false,
    "pycharm": {
     "name": "#%%\n"
    }
   }
  },
  {
   "cell_type": "code",
   "execution_count": 4,
   "outputs": [
    {
     "data": {
      "text/plain": "array([[10. ,  1. ],\n       [ 6.4,  9.4],\n       [ 7. ,  6.4],\n       [ 6.4,  7. ],\n       [ 7. ,  1. ],\n       [ 4.6,  6.4],\n       [ 4.6,  5.8],\n       [ 8.8,  5.8],\n       [ 6.4,  2.2],\n       [ 5.2,  1. ]])"
     },
     "execution_count": 4,
     "metadata": {},
     "output_type": "execute_result"
    }
   ],
   "source": [
    "# Convertendo os valores para decimal\n",
    "pop_decimal = parte3.binary_to_decimal(pop, k, D, search_range)\n",
    "pop_decimal"
   ],
   "metadata": {
    "collapsed": false,
    "pycharm": {
     "name": "#%%\n"
    }
   }
  }
 ],
 "metadata": {
  "kernelspec": {
   "display_name": "Python 3",
   "language": "python",
   "name": "python3"
  },
  "language_info": {
   "codemirror_mode": {
    "name": "ipython",
    "version": 2
   },
   "file_extension": ".py",
   "mimetype": "text/x-python",
   "name": "python",
   "nbconvert_exporter": "python",
   "pygments_lexer": "ipython2",
   "version": "2.7.6"
  }
 },
 "nbformat": 4,
 "nbformat_minor": 0
}